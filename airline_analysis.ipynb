{
 "cells": [
  {
   "cell_type": "code",
   "execution_count": 1,
   "metadata": {
    "collapsed": true,
    "ExecuteTime": {
     "start_time": "2023-04-04T21:40:18.960498Z",
     "end_time": "2023-04-04T21:40:19.531194Z"
    }
   },
   "outputs": [],
   "source": [
    "import numpy as np\n",
    "from pyspark.sql import SparkSession\n",
    "import pyspark.sql.functions as fn\n",
    "from functools import reduce\n",
    "from pyspark.ml.feature import StringIndexer, VectorIndexer, VectorAssembler\n",
    "from pyspark.ml.classification import LogisticRegression, DecisionTreeClassifier, GBTClassifier, NaiveBayes\n",
    "from pyspark.ml import Pipeline\n",
    "from pyspark.ml.tuning import TrainValidationSplit, ParamGridBuilder, CrossValidator\n",
    "from pyspark.ml.evaluation import MulticlassClassificationEvaluator, RegressionEvaluator, BinaryClassificationEvaluator\n",
    "from pyspark.ml.tuning import TrainValidationSplitModel\n",
    "import seaborn as sns\n",
    "import numpy as np\n",
    "import matplotlib.pyplot as plt"
   ]
  },
  {
   "cell_type": "code",
   "execution_count": 2,
   "outputs": [
    {
     "name": "stdout",
     "output_type": "stream",
     "text": [
      "23/04/04 21:40:37 WARN Utils: Your hostname, kuro2k-XPS-15-9560 resolves to a loopback address: 127.0.1.1; using 192.168.1.205 instead (on interface wlp2s0)\n",
      "23/04/04 21:40:37 WARN Utils: Set SPARK_LOCAL_IP if you need to bind to another address\n"
     ]
    },
    {
     "name": "stderr",
     "output_type": "stream",
     "text": [
      "Setting default log level to \"WARN\".\n",
      "To adjust logging level use sc.setLogLevel(newLevel). For SparkR, use setLogLevel(newLevel).\n"
     ]
    },
    {
     "name": "stdout",
     "output_type": "stream",
     "text": [
      "23/04/04 21:40:38 WARN NativeCodeLoader: Unable to load native-hadoop library for your platform... using builtin-java classes where applicable\n"
     ]
    }
   ],
   "source": [
    "spark_session = SparkSession.builder \\\n",
    "    .master(\"local[1]\") \\\n",
    "    .appName(\"Airlines analysis\") \\\n",
    "    .getOrCreate()"
   ],
   "metadata": {
    "collapsed": false,
    "ExecuteTime": {
     "start_time": "2023-04-04T21:40:34.281053Z",
     "end_time": "2023-04-04T21:40:40.198272Z"
    }
   }
  },
  {
   "cell_type": "markdown",
   "source": [
    "# Preparing data"
   ],
   "metadata": {
    "collapsed": false
   }
  },
  {
   "cell_type": "code",
   "execution_count": 3,
   "outputs": [
    {
     "name": "stderr",
     "output_type": "stream",
     "text": [
      "[Stage 1:>                                                          (0 + 1) / 1]\r"
     ]
    },
    {
     "name": "stdout",
     "output_type": "stream",
     "text": [
      "root\n",
      " |-- id: integer (nullable = true)\n",
      " |-- Airline: string (nullable = true)\n",
      " |-- Flight: integer (nullable = true)\n",
      " |-- AirportFrom: string (nullable = true)\n",
      " |-- AirportTo: string (nullable = true)\n",
      " |-- DayOfWeek: integer (nullable = true)\n",
      " |-- Time: integer (nullable = true)\n",
      " |-- Length: integer (nullable = true)\n",
      " |-- Delay: integer (nullable = true)\n",
      "\n"
     ]
    },
    {
     "name": "stderr",
     "output_type": "stream",
     "text": [
      "                                                                                \r"
     ]
    }
   ],
   "source": [
    "airlines_df = spark_session.read.option(\"header\", True).csv(\"Airlines.csv\", inferSchema=True)\n",
    "airlines_df.printSchema()"
   ],
   "metadata": {
    "collapsed": false,
    "ExecuteTime": {
     "start_time": "2023-04-04T21:40:44.589365Z",
     "end_time": "2023-04-04T21:40:52.296260Z"
    }
   }
  },
  {
   "cell_type": "code",
   "execution_count": 4,
   "outputs": [
    {
     "name": "stdout",
     "output_type": "stream",
     "text": [
      "+---+-------+------+-----------+---------+---------+----+------+-----+\n",
      "| id|Airline|Flight|AirportFrom|AirportTo|DayOfWeek|Time|Length|Delay|\n",
      "+---+-------+------+-----------+---------+---------+----+------+-----+\n",
      "|  1|     CO|   269|        SFO|      IAH|        3|  15|   205|    1|\n",
      "|  2|     US|  1558|        PHX|      CLT|        3|  15|   222|    1|\n",
      "|  3|     AA|  2400|        LAX|      DFW|        3|  20|   165|    1|\n",
      "|  4|     AA|  2466|        SFO|      DFW|        3|  20|   195|    1|\n",
      "|  5|     AS|   108|        ANC|      SEA|        3|  30|   202|    0|\n",
      "+---+-------+------+-----------+---------+---------+----+------+-----+\n",
      "only showing top 5 rows\n",
      "\n"
     ]
    }
   ],
   "source": [
    "airlines_df.show(5)"
   ],
   "metadata": {
    "collapsed": false,
    "ExecuteTime": {
     "start_time": "2023-04-04T21:40:54.273102Z",
     "end_time": "2023-04-04T21:40:54.650995Z"
    }
   }
  },
  {
   "cell_type": "markdown",
   "source": [
    "# Count null value in dataset"
   ],
   "metadata": {
    "collapsed": false
   }
  },
  {
   "cell_type": "code",
   "execution_count": 5,
   "outputs": [
    {
     "name": "stderr",
     "output_type": "stream",
     "text": [
      "[Stage 3:>                                                          (0 + 1) / 1]\r"
     ]
    },
    {
     "name": "stdout",
     "output_type": "stream",
     "text": [
      "+---+-------+------+-----------+---------+---------+----+------+-----+\n",
      "| id|Airline|Flight|AirportFrom|AirportTo|DayOfWeek|Time|Length|Delay|\n",
      "+---+-------+------+-----------+---------+---------+----+------+-----+\n",
      "|  0|      0|     0|          0|        0|        0|   0|     0|    0|\n",
      "+---+-------+------+-----------+---------+---------+----+------+-----+\n",
      "\n"
     ]
    },
    {
     "name": "stderr",
     "output_type": "stream",
     "text": [
      "                                                                                \r"
     ]
    }
   ],
   "source": [
    "df2 = airlines_df.select([fn.count(fn.when(fn.col(c).contains('None') | \\\n",
    "                                           fn.col(c).contains('NULL') | \\\n",
    "                                           (fn.col(c) == '') | \\\n",
    "                                           fn.col(c).isNull() | \\\n",
    "                                           fn.isnan(c), c\n",
    "                                           )).alias(c)\n",
    "                          for c in airlines_df.columns])\n",
    "df2.show(5)"
   ],
   "metadata": {
    "collapsed": false,
    "ExecuteTime": {
     "start_time": "2023-04-04T21:40:57.178368Z",
     "end_time": "2023-04-04T21:41:05.124381Z"
    }
   }
  },
  {
   "cell_type": "code",
   "execution_count": 6,
   "outputs": [],
   "source": [
    "airlines_df2 = airlines_df.drop(\"id\")"
   ],
   "metadata": {
    "collapsed": false,
    "ExecuteTime": {
     "start_time": "2023-04-04T21:41:07.441819Z",
     "end_time": "2023-04-04T21:41:07.665931Z"
    }
   }
  },
  {
   "cell_type": "markdown",
   "source": [
    "# Visualize some features of data"
   ],
   "metadata": {
    "collapsed": false
   }
  },
  {
   "cell_type": "code",
   "execution_count": 7,
   "outputs": [
    {
     "name": "stderr",
     "output_type": "stream",
     "text": [
      "                                                                                \r"
     ]
    },
    {
     "data": {
      "text/plain": "<Axes: ylabel='Frequency'>"
     },
     "execution_count": 7,
     "metadata": {},
     "output_type": "execute_result"
    },
    {
     "data": {
      "text/plain": "<Figure size 640x480 with 1 Axes>",
      "image/png": "[encoded data removed]"
     },
     "metadata": {},
     "output_type": "display_data"
    }
   ],
   "source": [
    "airlines_df2.select(\"Time\").toPandas().plot.hist(bins=400)"
   ],
   "metadata": {
    "collapsed": false,
    "ExecuteTime": {
     "start_time": "2023-04-04T21:41:11.302022Z",
     "end_time": "2023-04-04T21:41:15.949439Z"
    }
   }
  },
  {
   "cell_type": "code",
   "execution_count": 8,
   "outputs": [
    {
     "name": "stderr",
     "output_type": "stream",
     "text": [
      "                                                                                \r"
     ]
    },
    {
     "data": {
      "text/plain": "<Axes: ylabel='Frequency'>"
     },
     "execution_count": 8,
     "metadata": {},
     "output_type": "execute_result"
    },
    {
     "data": {
      "text/plain": "<Figure size 640x480 with 1 Axes>",
      "image/png": "[encoded data removed]"
     },
     "metadata": {},
     "output_type": "display_data"
    }
   ],
   "source": [
    "airlines_df2.select(\"Length\").toPandas().plot.hist(bins=400)"
   ],
   "metadata": {
    "collapsed": false,
    "ExecuteTime": {
     "start_time": "2023-04-04T21:41:56.771817Z",
     "end_time": "2023-04-04T21:42:01.161880Z"
    }
   }
  },
  {
   "cell_type": "code",
   "execution_count": 9,
   "outputs": [],
   "source": [
    "airlines_df3 = airlines_df2.withColumn(\"Length_by_hours\", fn.col(\"Length\") / 60) \\\n",
    "                           .withColumn(\"Time_by_hours\", fn.col(\"Time\") / 60) \\\n",
    "                           .drop(\"Length\", \"Time\")"
   ],
   "metadata": {
    "collapsed": false,
    "ExecuteTime": {
     "start_time": "2023-04-04T21:42:03.003914Z",
     "end_time": "2023-04-04T21:42:03.273742Z"
    }
   }
  },
  {
   "cell_type": "code",
   "execution_count": 10,
   "outputs": [
    {
     "name": "stderr",
     "output_type": "stream",
     "text": [
      "                                                                                \r"
     ]
    },
    {
     "data": {
      "text/plain": "<Axes: ylabel='Frequency'>"
     },
     "execution_count": 10,
     "metadata": {},
     "output_type": "execute_result"
    },
    {
     "data": {
      "text/plain": "<Figure size 640x480 with 1 Axes>",
      "image/png": "[encoded data removed]"
     },
     "metadata": {},
     "output_type": "display_data"
    }
   ],
   "source": [
    "airlines_df3.select(\"Time_by_hours\").toPandas().plot.hist(bins=400)"
   ],
   "metadata": {
    "collapsed": false,
    "ExecuteTime": {
     "start_time": "2023-04-04T21:42:07.292085Z",
     "end_time": "2023-04-04T21:42:12.196768Z"
    }
   }
  },
  {
   "cell_type": "code",
   "execution_count": 11,
   "outputs": [
    {
     "name": "stderr",
     "output_type": "stream",
     "text": [
      "                                                                                \r"
     ]
    },
    {
     "data": {
      "text/plain": "<Axes: ylabel='Frequency'>"
     },
     "execution_count": 11,
     "metadata": {},
     "output_type": "execute_result"
    },
    {
     "data": {
      "text/plain": "<Figure size 640x480 with 1 Axes>",
      "image/png": "[encoded data removed]"
     },
     "metadata": {},
     "output_type": "display_data"
    }
   ],
   "source": [
    "airlines_df3.select(\"Length_by_hours\").toPandas().plot.hist(bins=400)"
   ],
   "metadata": {
    "collapsed": false,
    "ExecuteTime": {
     "start_time": "2023-04-04T21:42:16.230245Z",
     "end_time": "2023-04-04T21:42:21.351459Z"
    }
   }
  },
  {
   "cell_type": "markdown",
   "source": [
    "# Transform data"
   ],
   "metadata": {
    "collapsed": false
   }
  },
  {
   "cell_type": "code",
   "execution_count": 12,
   "outputs": [
    {
     "name": "stderr",
     "output_type": "stream",
     "text": [
      "                                                                                \r"
     ]
    },
    {
     "name": "stdout",
     "output_type": "stream",
     "text": [
      "+----------------+------+\n",
      "|Departure_period| count|\n",
      "+----------------+------+\n",
      "|               1|170239|\n",
      "|               3|  3802|\n",
      "|               2|142360|\n",
      "|               0|222982|\n",
      "+----------------+------+\n",
      "\n"
     ]
    },
    {
     "name": "stderr",
     "output_type": "stream",
     "text": [
      "                                                                                \r"
     ]
    },
    {
     "name": "stdout",
     "output_type": "stream",
     "text": [
      "+-------+------+\n",
      "|Holiday| count|\n",
      "+-------+------+\n",
      "|      1|128835|\n",
      "|      0|410548|\n",
      "+-------+------+\n",
      "\n",
      "+-------+------+-----------+---------+---------+-----+------------------+----------------+-------+\n",
      "|Airline|Flight|AirportFrom|AirportTo|DayOfWeek|Delay|   Length_by_hours|Departure_period|Holiday|\n",
      "+-------+------+-----------+---------+---------+-----+------------------+----------------+-------+\n",
      "|     CO|   269|        SFO|      IAH|        3|    1|3.4166666666666665|               3|      0|\n",
      "|     US|  1558|        PHX|      CLT|        3|    1|               3.7|               3|      0|\n",
      "|     AA|  2400|        LAX|      DFW|        3|    1|              2.75|               3|      0|\n",
      "|     AA|  2466|        SFO|      DFW|        3|    1|              3.25|               3|      0|\n",
      "|     AS|   108|        ANC|      SEA|        3|    0|3.3666666666666667|               3|      0|\n",
      "|     CO|  1094|        LAX|      IAH|        3|    1|3.0166666666666666|               3|      0|\n",
      "|     DL|  1768|        LAX|      MSP|        3|    0|3.6666666666666665|               3|      0|\n",
      "|     DL|  2722|        PHX|      DTW|        3|    0|               3.8|               3|      0|\n",
      "|     DL|  2606|        SFO|      MSP|        3|    1|               3.6|               3|      0|\n",
      "|     AA|  2538|        LAS|      ORD|        3|    1|3.3333333333333335|               3|      0|\n",
      "|     CO|   223|        ANC|      SEA|        3|    1|              3.35|               3|      0|\n",
      "|     DL|  1646|        PHX|      ATL|        3|    1| 3.533333333333333|               3|      0|\n",
      "|     DL|  2055|        SLC|      ATL|        3|    0|               3.5|               3|      0|\n",
      "|     AA|  2408|        LAX|      DFW|        3|    0|2.8333333333333335|               3|      0|\n",
      "|     AS|   132|        ANC|      PDX|        3|    0|3.5833333333333335|               3|      0|\n",
      "|     US|   498|        DEN|      CLT|        3|    0|2.9833333333333334|               3|      0|\n",
      "|     B6|    98|        DEN|      JFK|        3|    0|              3.55|               3|      0|\n",
      "|     CO|  1496|        LAS|      IAH|        3|    0|               2.7|               3|      0|\n",
      "|     DL|  1450|        LAS|      MSP|        3|    0|3.0166666666666666|               3|      0|\n",
      "|     CO|   507|        ONT|      IAH|        3|    0| 2.783333333333333|               3|      0|\n",
      "+-------+------+-----------+---------+---------+-----+------------------+----------------+-------+\n",
      "only showing top 20 rows\n",
      "\n"
     ]
    }
   ],
   "source": [
    "# 0 ---> Morning | 1 ---> Afternoon | 2 ----> Evening | 3 ----> Night\n",
    "# 0 ---> not holiday | 1 ---> holiday\n",
    "airlines_df4 = airlines_df3.withColumn(\"Departure_period\",\n",
    "                                        fn.when((5.2 <= fn.col(\"Time_by_hours\")) & (fn.col(\"Time_by_hours\") < 12), 0)\n",
    "                                            .when((12 <= fn.col(\"Time_by_hours\")) & (fn.col(\"Time_by_hours\") < 17), 1)\n",
    "                                            .when((17 <= fn.col(\"Time_by_hours\")) & (fn.col(\"Time_by_hours\") < 23), 2)\n",
    "                                            .otherwise(3)\n",
    "                                       ) \\\n",
    "                            .withColumn(\"Holiday\", fn.when((fn.col(\"DayOfWeek\") == 6) | (fn.col(\"DayOfWeek\") == 7), 1)\n",
    "                                                    .otherwise(0)\n",
    "                                        ) \\\n",
    "                            .drop(\"Time_by_hours\")\n",
    "airlines_df4.groupBy(\"Departure_period\").count().show()\n",
    "airlines_df4.groupBy(\"Holiday\").count().show()\n",
    "airlines_df4.show()"
   ],
   "metadata": {
    "collapsed": false,
    "ExecuteTime": {
     "start_time": "2023-04-04T21:42:26.503377Z",
     "end_time": "2023-04-04T21:42:29.981960Z"
    }
   }
  },
  {
   "cell_type": "markdown",
   "source": [
    "# Count Value"
   ],
   "metadata": {
    "collapsed": false
   }
  },
  {
   "cell_type": "code",
   "execution_count": 13,
   "outputs": [
    {
     "name": "stderr",
     "output_type": "stream",
     "text": [
      "                                                                                \r"
     ]
    },
    {
     "name": "stdout",
     "output_type": "stream",
     "text": [
      "+-------+-------------+\n",
      "|Airline|Airline_count|\n",
      "+-------+-------------+\n",
      "|     HA|         5578|\n",
      "|     F9|         6456|\n",
      "|     AS|        11471|\n",
      "|     OH|        12630|\n",
      "|     YV|        13725|\n",
      "|     B6|        18112|\n",
      "|     9E|        20686|\n",
      "|     FL|        20827|\n",
      "|     CO|        21118|\n",
      "|     UA|        27619|\n",
      "|     EV|        27983|\n",
      "|     XE|        31126|\n",
      "|     US|        34500|\n",
      "|     MQ|        36605|\n",
      "|     AA|        45656|\n",
      "|     OO|        50254|\n",
      "|     DL|        60940|\n",
      "|     WN|        94097|\n",
      "+-------+-------------+\n",
      "\n"
     ]
    },
    {
     "name": "stderr",
     "output_type": "stream",
     "text": [
      "                                                                                \r"
     ]
    },
    {
     "name": "stdout",
     "output_type": "stream",
     "text": [
      "       Airline_count\n",
      "count      18.000000\n",
      "mean    29965.722222\n",
      "std     22026.299042\n",
      "min      5578.000000\n",
      "25%     14821.750000\n",
      "50%     24368.500000\n",
      "75%     36078.750000\n",
      "max     94097.000000\n"
     ]
    },
    {
     "name": "stderr",
     "output_type": "stream",
     "text": [
      "                                                                                \r"
     ]
    },
    {
     "name": "stdout",
     "output_type": "stream",
     "text": [
      "+------+------------+\n",
      "|Flight|Flight_count|\n",
      "+------+------------+\n",
      "|  3349|           1|\n",
      "|  4544|           1|\n",
      "|  5131|           1|\n",
      "|  3573|           1|\n",
      "|  5606|           1|\n",
      "|  3518|           1|\n",
      "|  3385|           1|\n",
      "|  6969|           1|\n",
      "|  4385|           1|\n",
      "|  3455|           1|\n",
      "|  4710|           1|\n",
      "|  3292|           1|\n",
      "|  7814|           1|\n",
      "|  3184|           1|\n",
      "|  5559|           1|\n",
      "|  3413|           1|\n",
      "|  3387|           2|\n",
      "|  4610|           2|\n",
      "|  3195|           2|\n",
      "|  3207|           2|\n",
      "+------+------------+\n",
      "only showing top 20 rows\n",
      "\n"
     ]
    },
    {
     "name": "stderr",
     "output_type": "stream",
     "text": [
      "                                                                                \r"
     ]
    },
    {
     "name": "stdout",
     "output_type": "stream",
     "text": [
      "            Flight  Flight_count\n",
      "count  6585.000000   6585.000000\n",
      "mean   3475.050266     81.910858\n",
      "std    2130.114757     60.450921\n",
      "min       1.000000      1.000000\n",
      "25%    1651.000000     38.000000\n",
      "50%    3322.000000     62.000000\n",
      "75%    5142.000000    111.000000\n",
      "max    7814.000000    420.000000\n"
     ]
    },
    {
     "name": "stderr",
     "output_type": "stream",
     "text": [
      "                                                                                \r"
     ]
    },
    {
     "name": "stdout",
     "output_type": "stream",
     "text": [
      "+-----------+-----------------+\n",
      "|AirportFrom|AirportFrom_count|\n",
      "+-----------+-----------------+\n",
      "|        ABR|                2|\n",
      "|        ADK|                9|\n",
      "|        GUM|               10|\n",
      "|        SJT|               15|\n",
      "|        MMH|               16|\n",
      "|        FLO|               18|\n",
      "|        UTM|               18|\n",
      "|        PIE|               23|\n",
      "|        BLI|               26|\n",
      "|        TEX|               27|\n",
      "|        TOL|               27|\n",
      "|        DBQ|               27|\n",
      "|        GGG|               31|\n",
      "|        CYS|               31|\n",
      "|        CLL|               31|\n",
      "|        BGR|               32|\n",
      "|        PLN|               32|\n",
      "|        STX|               46|\n",
      "|        SPS|               46|\n",
      "|        CDC|               55|\n",
      "+-----------+-----------------+\n",
      "only showing top 20 rows\n",
      "\n"
     ]
    },
    {
     "name": "stderr",
     "output_type": "stream",
     "text": [
      "                                                                                \r"
     ]
    },
    {
     "name": "stdout",
     "output_type": "stream",
     "text": [
      "       AirportFrom_count\n",
      "count         293.000000\n",
      "mean         1840.897611\n",
      "std          4015.279914\n",
      "min             2.000000\n",
      "25%           120.000000\n",
      "50%           361.000000\n",
      "75%          1244.000000\n",
      "max         34449.000000\n"
     ]
    },
    {
     "name": "stderr",
     "output_type": "stream",
     "text": [
      "                                                                                \r"
     ]
    },
    {
     "name": "stdout",
     "output_type": "stream",
     "text": [
      "+---------+---------------+\n",
      "|AirportTo|AirportTo_count|\n",
      "+---------+---------------+\n",
      "|      ABR|              2|\n",
      "|      ADK|              9|\n",
      "|      GUM|             10|\n",
      "|      SJT|             15|\n",
      "|      MMH|             16|\n",
      "|      FLO|             18|\n",
      "|      UTM|             18|\n",
      "|      PIE|             23|\n",
      "|      BLI|             26|\n",
      "|      TEX|             27|\n",
      "|      TOL|             27|\n",
      "|      DBQ|             27|\n",
      "|      GGG|             31|\n",
      "|      CYS|             31|\n",
      "|      CLL|             31|\n",
      "|      BGR|             32|\n",
      "|      PLN|             32|\n",
      "|      STX|             45|\n",
      "|      SPS|             46|\n",
      "|      CDC|             54|\n",
      "+---------+---------------+\n",
      "only showing top 20 rows\n",
      "\n"
     ]
    },
    {
     "name": "stderr",
     "output_type": "stream",
     "text": [
      "                                                                                \r"
     ]
    },
    {
     "name": "stdout",
     "output_type": "stream",
     "text": [
      "       AirportTo_count\n",
      "count       293.000000\n",
      "mean       1840.897611\n",
      "std        4016.329857\n",
      "min           2.000000\n",
      "25%         120.000000\n",
      "50%         361.000000\n",
      "75%        1244.000000\n",
      "max       34440.000000\n"
     ]
    },
    {
     "name": "stderr",
     "output_type": "stream",
     "text": [
      "                                                                                \r"
     ]
    },
    {
     "name": "stdout",
     "output_type": "stream",
     "text": [
      "+---------+---------------+\n",
      "|DayOfWeek|DayOfWeek_count|\n",
      "+---------+---------------+\n",
      "|        6|          58956|\n",
      "|        7|          69879|\n",
      "|        2|          71340|\n",
      "|        1|          72769|\n",
      "|        5|          85248|\n",
      "|        3|          89746|\n",
      "|        4|          91445|\n",
      "+---------+---------------+\n",
      "\n"
     ]
    },
    {
     "name": "stderr",
     "output_type": "stream",
     "text": [
      "                                                                                \r"
     ]
    },
    {
     "name": "stdout",
     "output_type": "stream",
     "text": [
      "       DayOfWeek  DayOfWeek_count\n",
      "count   7.000000         7.000000\n",
      "mean    4.000000     77054.714286\n",
      "std     2.160247     12009.431207\n",
      "min     1.000000     58956.000000\n",
      "25%     2.500000     70609.500000\n",
      "50%     4.000000     72769.000000\n",
      "75%     5.500000     87497.000000\n",
      "max     7.000000     91445.000000\n"
     ]
    },
    {
     "name": "stderr",
     "output_type": "stream",
     "text": [
      "                                                                                \r"
     ]
    },
    {
     "name": "stdout",
     "output_type": "stream",
     "text": [
      "+-----+-----------+\n",
      "|Delay|Delay_count|\n",
      "+-----+-----------+\n",
      "|    1|     240264|\n",
      "|    0|     299119|\n",
      "+-----+-----------+\n",
      "\n"
     ]
    },
    {
     "name": "stderr",
     "output_type": "stream",
     "text": [
      "                                                                                \r"
     ]
    },
    {
     "name": "stdout",
     "output_type": "stream",
     "text": [
      "          Delay    Delay_count\n",
      "count  2.000000       2.000000\n",
      "mean   0.500000  269691.500000\n",
      "std    0.707107   41616.769607\n",
      "min    0.000000  240264.000000\n",
      "25%    0.250000  254977.750000\n",
      "50%    0.500000  269691.500000\n",
      "75%    0.750000  284405.250000\n",
      "max    1.000000  299119.000000\n"
     ]
    },
    {
     "name": "stderr",
     "output_type": "stream",
     "text": [
      "                                                                                \r"
     ]
    },
    {
     "name": "stdout",
     "output_type": "stream",
     "text": [
      "+----------------+----------------------+\n",
      "|Departure_period|Departure_period_count|\n",
      "+----------------+----------------------+\n",
      "|               3|                  3802|\n",
      "|               2|                142360|\n",
      "|               1|                170239|\n",
      "|               0|                222982|\n",
      "+----------------+----------------------+\n",
      "\n"
     ]
    },
    {
     "name": "stderr",
     "output_type": "stream",
     "text": [
      "                                                                                \r"
     ]
    },
    {
     "name": "stdout",
     "output_type": "stream",
     "text": [
      "       Departure_period  Departure_period_count\n",
      "count          4.000000                4.000000\n",
      "mean           1.500000           134845.750000\n",
      "std            1.290994            93540.738143\n",
      "min            0.000000             3802.000000\n",
      "25%            0.750000           107720.500000\n",
      "50%            1.500000           156299.500000\n",
      "75%            2.250000           183424.750000\n",
      "max            3.000000           222982.000000\n"
     ]
    },
    {
     "name": "stderr",
     "output_type": "stream",
     "text": [
      "                                                                                \r"
     ]
    },
    {
     "name": "stdout",
     "output_type": "stream",
     "text": [
      "+-------+-------------+\n",
      "|Holiday|Holiday_count|\n",
      "+-------+-------------+\n",
      "|      1|       128835|\n",
      "|      0|       410548|\n",
      "+-------+-------------+\n",
      "\n"
     ]
    },
    {
     "name": "stderr",
     "output_type": "stream",
     "text": [
      "                                                                                \r"
     ]
    },
    {
     "name": "stdout",
     "output_type": "stream",
     "text": [
      "        Holiday  Holiday_count\n",
      "count  2.000000       2.000000\n",
      "mean   0.500000  269691.500000\n",
      "std    0.707107  199201.172648\n",
      "min    0.000000  128835.000000\n",
      "25%    0.250000  199263.250000\n",
      "50%    0.500000  269691.500000\n",
      "75%    0.750000  340119.750000\n",
      "max    1.000000  410548.000000\n"
     ]
    },
    {
     "name": "stderr",
     "output_type": "stream",
     "text": [
      "                                                                                \r"
     ]
    },
    {
     "name": "stdout",
     "output_type": "stream",
     "text": [
      "       Length_by_hours\n",
      "count    539383.000000\n",
      "mean          2.203367\n",
      "std           1.168617\n",
      "min           0.000000\n",
      "25%           1.350000\n",
      "50%           1.916667\n",
      "75%           2.700000\n",
      "max          10.916667\n"
     ]
    }
   ],
   "source": [
    "df4 = [airlines_df4.groupBy(c).count().orderBy(fn.col(\"count\").asc()).select(c, fn.col(\"count\").alias(f\"{c}_count\"))\n",
    "                          for c in airlines_df4.columns if c != \"Length_by_hours\"]\n",
    "for x in df4:\n",
    "    x.show()\n",
    "    print(x.toPandas().describe())\n",
    "print(airlines_df4.select(\"Length_by_hours\").toPandas().describe())"
   ],
   "metadata": {
    "collapsed": false,
    "ExecuteTime": {
     "start_time": "2023-04-04T21:42:31.787895Z",
     "end_time": "2023-04-04T21:42:52.777071Z"
    }
   }
  },
  {
   "cell_type": "markdown",
   "source": [
    "# Remove outliner"
   ],
   "metadata": {
    "collapsed": false
   }
  },
  {
   "cell_type": "code",
   "execution_count": 14,
   "outputs": [
    {
     "name": "stderr",
     "output_type": "stream",
     "text": [
      "[Stage 130:>                                                        (0 + 1) / 1]\r"
     ]
    },
    {
     "name": "stdout",
     "output_type": "stream",
     "text": [
      "+-------+------+-----------+---------+---------+-----+------------------+----------------+-------+\n",
      "|Airline|Flight|AirportFrom|AirportTo|DayOfWeek|Delay|   Length_by_hours|Departure_period|Holiday|\n",
      "+-------+------+-----------+---------+---------+-----+------------------+----------------+-------+\n",
      "|     CO|   269|        SFO|      IAH|        3|    1|3.4166666666666665|               3|      0|\n",
      "|     US|  1558|        PHX|      CLT|        3|    1|               3.7|               3|      0|\n",
      "|     AA|  2400|        LAX|      DFW|        3|    1|              2.75|               3|      0|\n",
      "|     AA|  2466|        SFO|      DFW|        3|    1|              3.25|               3|      0|\n",
      "|     AS|   108|        ANC|      SEA|        3|    0|3.3666666666666667|               3|      0|\n",
      "|     CO|  1094|        LAX|      IAH|        3|    1|3.0166666666666666|               3|      0|\n",
      "|     DL|  1768|        LAX|      MSP|        3|    0|3.6666666666666665|               3|      0|\n",
      "|     DL|  2722|        PHX|      DTW|        3|    0|               3.8|               3|      0|\n",
      "|     DL|  2606|        SFO|      MSP|        3|    1|               3.6|               3|      0|\n",
      "|     AA|  2538|        LAS|      ORD|        3|    1|3.3333333333333335|               3|      0|\n",
      "|     CO|   223|        ANC|      SEA|        3|    1|              3.35|               3|      0|\n",
      "|     DL|  1646|        PHX|      ATL|        3|    1| 3.533333333333333|               3|      0|\n",
      "|     DL|  2055|        SLC|      ATL|        3|    0|               3.5|               3|      0|\n",
      "|     AA|  2408|        LAX|      DFW|        3|    0|2.8333333333333335|               3|      0|\n",
      "|     AS|   132|        ANC|      PDX|        3|    0|3.5833333333333335|               3|      0|\n",
      "|     US|   498|        DEN|      CLT|        3|    0|2.9833333333333334|               3|      0|\n",
      "|     B6|    98|        DEN|      JFK|        3|    0|              3.55|               3|      0|\n",
      "|     CO|  1496|        LAS|      IAH|        3|    0|               2.7|               3|      0|\n",
      "|     DL|  1450|        LAS|      MSP|        3|    0|3.0166666666666666|               3|      0|\n",
      "|     CO|   507|        ONT|      IAH|        3|    0| 2.783333333333333|               3|      0|\n",
      "+-------+------+-----------+---------+---------+-----+------------------+----------------+-------+\n",
      "only showing top 20 rows\n",
      "\n"
     ]
    },
    {
     "name": "stderr",
     "output_type": "stream",
     "text": [
      "                                                                                \r"
     ]
    }
   ],
   "source": [
    "airlines_df5 = airlines_df4.filter(fn.col(\"Length_by_hours\") >= 0.5).filter(fn.col(\"Length_by_hours\") < 5)\n",
    "for x in df4:\n",
    "    if x.columns[0] == \"Flight\":\n",
    "        x1 = x.filter(fn.col(x.columns[1]) > 15)\n",
    "        airlines_df5 = airlines_df5.filter(fn.col(\"Flight\").isin(list(x1.toPandas()[\"Flight\"])))\n",
    "    elif x.columns[0] == \"AirportTo\":\n",
    "        x1 = x.filter(fn.col(x.columns[1]) > 30)\n",
    "        airlines_df5 = airlines_df5.filter(fn.col(\"AirportTo\").isin(list(x1.toPandas()[\"AirportTo\"])))\n",
    "    elif x.columns[0] == \"AirportFrom\":\n",
    "        x1 = x.filter(fn.col(x.columns[1]) > 30)\n",
    "        airlines_df5 = airlines_df5.filter(fn.col(\"AirportFrom\").isin(list(x1.toPandas()[\"AirportFrom\"])))\n",
    "airlines_df5.show()"
   ],
   "metadata": {
    "collapsed": false,
    "ExecuteTime": {
     "start_time": "2023-04-04T21:43:03.455924Z",
     "end_time": "2023-04-04T21:43:26.443180Z"
    }
   }
  },
  {
   "cell_type": "code",
   "execution_count": 15,
   "outputs": [
    {
     "name": "stderr",
     "output_type": "stream",
     "text": [
      "                                                                                \r"
     ]
    },
    {
     "name": "stdout",
     "output_type": "stream",
     "text": [
      "+-------+-------------+\n",
      "|Airline|Airline_count|\n",
      "+-------+-------------+\n",
      "|     HA|         4575|\n",
      "|     F9|         6407|\n",
      "|     AS|         9931|\n",
      "|     OH|        12587|\n",
      "|     YV|        13477|\n",
      "|     B6|        16175|\n",
      "|     CO|        19034|\n",
      "|     9E|        20360|\n",
      "|     FL|        20587|\n",
      "|     UA|        23402|\n",
      "|     EV|        26765|\n",
      "|     XE|        31099|\n",
      "|     US|        32083|\n",
      "|     MQ|        36254|\n",
      "|     AA|        42609|\n",
      "|     OO|        49337|\n",
      "|     DL|        57041|\n",
      "|     WN|        92335|\n",
      "+-------+-------------+\n",
      "\n"
     ]
    },
    {
     "name": "stderr",
     "output_type": "stream",
     "text": [
      "                                                                                \r"
     ]
    },
    {
     "name": "stdout",
     "output_type": "stream",
     "text": [
      "       Airline_count\n",
      "count      18.000000\n",
      "mean    28558.777778\n",
      "std     21537.940924\n",
      "min      4575.000000\n",
      "25%     14151.500000\n",
      "50%     21994.500000\n",
      "75%     35211.250000\n",
      "max     92335.000000\n"
     ]
    },
    {
     "name": "stderr",
     "output_type": "stream",
     "text": [
      "                                                                                \r"
     ]
    },
    {
     "name": "stdout",
     "output_type": "stream",
     "text": [
      "+------+------------+\n",
      "|Flight|Flight_count|\n",
      "+------+------------+\n",
      "|   935|           2|\n",
      "|  4961|           2|\n",
      "|  2329|           4|\n",
      "|  1549|           9|\n",
      "|  2365|          11|\n",
      "|  1797|          11|\n",
      "|  6967|          13|\n",
      "|  1535|          14|\n",
      "|  7218|          16|\n",
      "|  4958|          16|\n",
      "|  4538|          16|\n",
      "|  2255|          16|\n",
      "|  4700|          16|\n",
      "|  6904|          16|\n",
      "|  5087|          16|\n",
      "|  4837|          16|\n",
      "|  1542|          16|\n",
      "|  6720|          16|\n",
      "|  3502|          16|\n",
      "|  3155|          16|\n",
      "+------+------------+\n",
      "only showing top 20 rows\n",
      "\n"
     ]
    },
    {
     "name": "stderr",
     "output_type": "stream",
     "text": [
      "                                                                                \r"
     ]
    },
    {
     "name": "stdout",
     "output_type": "stream",
     "text": [
      "            Flight  Flight_count\n",
      "count  6268.000000   6268.000000\n",
      "mean   3398.966656     82.013082\n",
      "std    2126.584335     54.899631\n",
      "min       1.000000      2.000000\n",
      "25%    1576.750000     42.000000\n",
      "50%    3151.500000     63.000000\n",
      "75%    5086.250000    109.000000\n",
      "max    7812.000000    339.000000\n"
     ]
    },
    {
     "name": "stderr",
     "output_type": "stream",
     "text": [
      "                                                                                \r"
     ]
    },
    {
     "name": "stdout",
     "output_type": "stream",
     "text": [
      "+-----------+-----------------+\n",
      "|AirportFrom|AirportFrom_count|\n",
      "+-----------+-----------------+\n",
      "|        WRG|               29|\n",
      "|        GGG|               31|\n",
      "|        CLL|               31|\n",
      "|        CYS|               31|\n",
      "|        PLN|               32|\n",
      "|        BGR|               32|\n",
      "|        PSG|               39|\n",
      "|        STX|               46|\n",
      "|        SPS|               46|\n",
      "|        CDC|               54|\n",
      "|        ADQ|               56|\n",
      "|        SCC|               56|\n",
      "|        CDV|               57|\n",
      "|        HTS|               57|\n",
      "|        LWS|               57|\n",
      "|        YAK|               57|\n",
      "|        MEI|               58|\n",
      "|        LYH|               59|\n",
      "|        ACT|               60|\n",
      "|        TYR|               60|\n",
      "+-----------+-----------------+\n",
      "only showing top 20 rows\n",
      "\n"
     ]
    },
    {
     "name": "stderr",
     "output_type": "stream",
     "text": [
      "                                                                                \r"
     ]
    },
    {
     "name": "stdout",
     "output_type": "stream",
     "text": [
      "       AirportFrom_count\n",
      "count         281.000000\n",
      "mean         1829.387900\n",
      "std          3908.894107\n",
      "min            29.000000\n",
      "25%           135.000000\n",
      "50%           387.000000\n",
      "75%          1390.000000\n",
      "max         32935.000000\n"
     ]
    },
    {
     "name": "stderr",
     "output_type": "stream",
     "text": [
      "                                                                                \r"
     ]
    },
    {
     "name": "stdout",
     "output_type": "stream",
     "text": [
      "+---------+---------------+\n",
      "|AirportTo|AirportTo_count|\n",
      "+---------+---------------+\n",
      "|      PSG|             29|\n",
      "|      CLL|             31|\n",
      "|      IPL|             31|\n",
      "|      GGG|             31|\n",
      "|      CYS|             31|\n",
      "|      BGR|             32|\n",
      "|      PLN|             32|\n",
      "|      WRG|             39|\n",
      "|      ACT|             44|\n",
      "|      STX|             45|\n",
      "|      SPS|             46|\n",
      "|      CDC|             54|\n",
      "|      SCC|             56|\n",
      "|      ADQ|             56|\n",
      "|      CDV|             57|\n",
      "|      HTS|             57|\n",
      "|      LWS|             57|\n",
      "|      YAK|             57|\n",
      "|      MEI|             58|\n",
      "|      LYH|             59|\n",
      "+---------+---------------+\n",
      "only showing top 20 rows\n",
      "\n"
     ]
    },
    {
     "name": "stderr",
     "output_type": "stream",
     "text": [
      "                                                                                \r"
     ]
    },
    {
     "name": "stdout",
     "output_type": "stream",
     "text": [
      "       AirportTo_count\n",
      "count       281.000000\n",
      "mean       1829.387900\n",
      "std        3909.854863\n",
      "min          29.000000\n",
      "25%         135.000000\n",
      "50%         382.000000\n",
      "75%        1405.000000\n",
      "max       34032.000000\n"
     ]
    },
    {
     "name": "stderr",
     "output_type": "stream",
     "text": [
      "                                                                                \r"
     ]
    },
    {
     "name": "stdout",
     "output_type": "stream",
     "text": [
      "+---------+---------------+\n",
      "|DayOfWeek|DayOfWeek_count|\n",
      "+---------+---------------+\n",
      "|        6|          55870|\n",
      "|        7|          66402|\n",
      "|        2|          68168|\n",
      "|        1|          69461|\n",
      "|        5|          81175|\n",
      "|        3|          85739|\n",
      "|        4|          87243|\n",
      "+---------+---------------+\n",
      "\n"
     ]
    },
    {
     "name": "stderr",
     "output_type": "stream",
     "text": [
      "                                                                                \r"
     ]
    },
    {
     "name": "stdout",
     "output_type": "stream",
     "text": [
      "       DayOfWeek  DayOfWeek_count\n",
      "count   7.000000         7.000000\n",
      "mean    4.000000     73436.857143\n",
      "std     2.160247     11572.115442\n",
      "min     1.000000     55870.000000\n",
      "25%     2.500000     67285.000000\n",
      "50%     4.000000     69461.000000\n",
      "75%     5.500000     83457.000000\n",
      "max     7.000000     87243.000000\n"
     ]
    },
    {
     "name": "stderr",
     "output_type": "stream",
     "text": [
      "                                                                                \r"
     ]
    },
    {
     "name": "stdout",
     "output_type": "stream",
     "text": [
      "+-----+-----------+\n",
      "|Delay|Delay_count|\n",
      "+-----+-----------+\n",
      "|    1|     228701|\n",
      "|    0|     285357|\n",
      "+-----+-----------+\n",
      "\n"
     ]
    },
    {
     "name": "stderr",
     "output_type": "stream",
     "text": [
      "                                                                                \r"
     ]
    },
    {
     "name": "stdout",
     "output_type": "stream",
     "text": [
      "          Delay    Delay_count\n",
      "count  2.000000       2.000000\n",
      "mean   0.500000  257029.000000\n",
      "std    0.707107   40061.841795\n",
      "min    0.000000  228701.000000\n",
      "25%    0.250000  242865.000000\n",
      "50%    0.500000  257029.000000\n",
      "75%    0.750000  271193.000000\n",
      "max    1.000000  285357.000000\n"
     ]
    },
    {
     "name": "stderr",
     "output_type": "stream",
     "text": [
      "                                                                                \r"
     ]
    },
    {
     "name": "stdout",
     "output_type": "stream",
     "text": [
      "+------------------+---------------------+\n",
      "|   Length_by_hours|Length_by_hours_count|\n",
      "+------------------+---------------------+\n",
      "| 4.716666666666667|                   66|\n",
      "|0.5166666666666667|                   66|\n",
      "|              4.95|                   87|\n",
      "| 4.933333333333334|                  108|\n",
      "| 4.433333333333334|                  112|\n",
      "|              4.55|                  121|\n",
      "| 4.816666666666666|                  124|\n",
      "| 4.983333333333333|                  137|\n",
      "|              4.85|                  160|\n",
      "| 4.783333333333333|                  163|\n",
      "| 4.766666666666667|                  165|\n",
      "|              3.85|                  180|\n",
      "| 4.266666666666667|                  185|\n",
      "| 4.516666666666667|                  189|\n",
      "|               4.7|                  206|\n",
      "| 4.383333333333334|                  209|\n",
      "| 4.866666666666666|                  223|\n",
      "| 4.183333333333334|                  224|\n",
      "|3.8833333333333333|                  230|\n",
      "|               4.9|                  230|\n",
      "+------------------+---------------------+\n",
      "only showing top 20 rows\n",
      "\n"
     ]
    },
    {
     "name": "stderr",
     "output_type": "stream",
     "text": [
      "                                                                                \r"
     ]
    },
    {
     "name": "stdout",
     "output_type": "stream",
     "text": [
      "       Length_by_hours  Length_by_hours_count\n",
      "count       270.000000             270.000000\n",
      "mean          2.741667            1903.918519\n",
      "std           1.301442            2353.463720\n",
      "min           0.500000              66.000000\n",
      "25%           1.620833             406.500000\n",
      "50%           2.741667            1197.000000\n",
      "75%           3.862500            2414.000000\n",
      "max           4.983333           13173.000000\n"
     ]
    },
    {
     "name": "stderr",
     "output_type": "stream",
     "text": [
      "                                                                                \r"
     ]
    },
    {
     "name": "stdout",
     "output_type": "stream",
     "text": [
      "+----------------+----------------------+\n",
      "|Departure_period|Departure_period_count|\n",
      "+----------------+----------------------+\n",
      "|               3|                  3176|\n",
      "|               2|                134972|\n",
      "|               1|                163243|\n",
      "|               0|                212667|\n",
      "+----------------+----------------------+\n",
      "\n"
     ]
    },
    {
     "name": "stderr",
     "output_type": "stream",
     "text": [
      "                                                                                \r"
     ]
    },
    {
     "name": "stdout",
     "output_type": "stream",
     "text": [
      "       Departure_period  Departure_period_count\n",
      "count          4.000000                4.000000\n",
      "mean           1.500000           128514.500000\n",
      "std            1.290994            89515.642687\n",
      "min            0.000000             3176.000000\n",
      "25%            0.750000           102023.000000\n",
      "50%            1.500000           149107.500000\n",
      "75%            2.250000           175599.000000\n",
      "max            3.000000           212667.000000\n"
     ]
    },
    {
     "name": "stderr",
     "output_type": "stream",
     "text": [
      "                                                                                \r"
     ]
    },
    {
     "name": "stdout",
     "output_type": "stream",
     "text": [
      "+-------+-------------+\n",
      "|Holiday|Holiday_count|\n",
      "+-------+-------------+\n",
      "|      1|       122272|\n",
      "|      0|       391786|\n",
      "+-------+-------------+\n",
      "\n"
     ]
    },
    {
     "name": "stderr",
     "output_type": "stream",
     "text": [
      "                                                                                \r"
     ]
    },
    {
     "name": "stdout",
     "output_type": "stream",
     "text": [
      "        Holiday  Holiday_count\n",
      "count  2.000000       2.000000\n",
      "mean   0.500000  257029.000000\n",
      "std    0.707107  190575.177025\n",
      "min    0.000000  122272.000000\n",
      "25%    0.250000  189650.500000\n",
      "50%    0.500000  257029.000000\n",
      "75%    0.750000  324407.500000\n",
      "max    1.000000  391786.000000\n"
     ]
    }
   ],
   "source": [
    "df5 = [airlines_df5.groupBy(c).count().orderBy(fn.col(\"count\").asc()).select(c, fn.col(\"count\").alias(f\"{c}_count\"))\n",
    "                          for c in airlines_df5.columns]\n",
    "for x in df5:\n",
    "    x.show()\n",
    "    print(x.toPandas().describe())\n",
    "    # x.toPandas().plot.bar(x=x.columns[0], y=x.columns[1])"
   ],
   "metadata": {
    "collapsed": false,
    "ExecuteTime": {
     "start_time": "2023-04-04T21:43:33.825360Z",
     "end_time": "2023-04-04T21:49:01.995994Z"
    }
   }
  },
  {
   "cell_type": "code",
   "execution_count": 16,
   "outputs": [
    {
     "name": "stderr",
     "output_type": "stream",
     "text": [
      "                                                                                \r"
     ]
    },
    {
     "name": "stdout",
     "output_type": "stream",
     "text": [
      "+------+---------+-----+------------------+----------------+-------+--------------+------------------+----------------+\n",
      "|Flight|DayOfWeek|Delay|   Length_by_hours|Departure_period|Holiday|AirlineIndexer|AirportFromIndexer|AirportToIndexer|\n",
      "+------+---------+-----+------------------+----------------+-------+--------------+------------------+----------------+\n",
      "|   269|        3|    1|3.4166666666666665|               3|      0|          11.0|              13.0|             4.0|\n",
      "|  1558|        3|    1|               3.7|               3|      0|           5.0|               5.0|             8.0|\n",
      "|  2400|        3|    1|              2.75|               3|      0|           3.0|               6.0|             2.0|\n",
      "|  2466|        3|    1|              3.25|               3|      0|           3.0|              13.0|             2.0|\n",
      "|   108|        3|    0|3.3666666666666667|               3|      0|          15.0|              76.0|            22.0|\n",
      "|  1094|        3|    1|3.0166666666666666|               3|      0|          11.0|               6.0|             4.0|\n",
      "|  1768|        3|    0|3.6666666666666665|               3|      0|           1.0|               6.0|            11.0|\n",
      "|  2722|        3|    0|               3.8|               3|      0|           1.0|               5.0|             6.0|\n",
      "|  2606|        3|    1|               3.6|               3|      0|           1.0|              13.0|            11.0|\n",
      "|  2538|        3|    1|3.3333333333333335|               3|      0|           3.0|               8.0|             1.0|\n",
      "|   223|        3|    1|              3.35|               3|      0|          11.0|              76.0|            22.0|\n",
      "|  1646|        3|    1| 3.533333333333333|               3|      0|           1.0|               5.0|             0.0|\n",
      "|  2055|        3|    0|               3.5|               3|      0|           1.0|              10.0|             0.0|\n",
      "|  2408|        3|    0|2.8333333333333335|               3|      0|           3.0|               6.0|             2.0|\n",
      "|   132|        3|    0|3.5833333333333335|               3|      0|          15.0|              76.0|            37.0|\n",
      "|   498|        3|    0|2.9833333333333334|               3|      0|           5.0|               3.0|             8.0|\n",
      "|    98|        3|    0|              3.55|               3|      0|          12.0|               3.0|            18.0|\n",
      "|  1496|        3|    0|               2.7|               3|      0|          11.0|               8.0|             4.0|\n",
      "|  1450|        3|    0|3.0166666666666666|               3|      0|           1.0|               8.0|            11.0|\n",
      "|   507|        3|    0| 2.783333333333333|               3|      0|          11.0|              57.0|             4.0|\n",
      "+------+---------+-----+------------------+----------------+-------+--------------+------------------+----------------+\n",
      "only showing top 20 rows\n",
      "\n"
     ]
    }
   ],
   "source": [
    "indexer = StringIndexer(inputCols=[\"Airline\", \"AirportFrom\", \"AirportTo\"], outputCols=[\"AirlineIndexer\", \"AirportFromIndexer\", \"AirportToIndexer\"])\n",
    "airlines_df6 = indexer.fit(airlines_df5).transform(airlines_df5)\n",
    "airlines_df6 = airlines_df6.drop(\"Airline\", \"AirportFrom\", \"AirportTo\")\n",
    "airlines_df6.show()"
   ],
   "metadata": {
    "collapsed": false,
    "ExecuteTime": {
     "start_time": "2023-04-04T21:49:45.669953Z",
     "end_time": "2023-04-04T21:50:05.377028Z"
    }
   }
  },
  {
   "cell_type": "markdown",
   "source": [
    "# Correlation among features"
   ],
   "metadata": {
    "collapsed": false
   }
  },
  {
   "cell_type": "code",
   "execution_count": 17,
   "outputs": [
    {
     "name": "stderr",
     "output_type": "stream",
     "text": [
      "                                                                                \r"
     ]
    },
    {
     "data": {
      "text/plain": "<Figure size 1500x1500 with 2 Axes>",
      "image/png": "[encoded data removed]"
     },
     "metadata": {},
     "output_type": "display_data"
    }
   ],
   "source": [
    "plt.figure(figsize=(15,15))\n",
    "cor = airlines_df6.toPandas().corr()\n",
    "sns.heatmap(cor, annot=True, cmap=plt.cm.Reds, fmt='.2f')\n",
    "plt.show()"
   ],
   "metadata": {
    "collapsed": false,
    "ExecuteTime": {
     "start_time": "2023-04-04T21:50:44.261161Z",
     "end_time": "2023-04-04T21:51:07.760099Z"
    }
   }
  },
  {
   "cell_type": "markdown",
   "source": [
    "# Transform data for training model"
   ],
   "metadata": {
    "collapsed": false
   }
  },
  {
   "cell_type": "code",
   "execution_count": 18,
   "outputs": [
    {
     "name": "stderr",
     "output_type": "stream",
     "text": [
      "                                                                                \r"
     ]
    }
   ],
   "source": [
    "airlines_vector_assembler = VectorAssembler(inputCols=[x for x in airlines_df6.columns if x != \"Delay\"], outputCol=\"features\")\n",
    "X = airlines_vector_assembler.transform(airlines_df6).select(\"features\", fn.col(\"Delay\"))\n",
    "featureIndexer = VectorIndexer(inputCol=\"features\", outputCol=\"indexedFeatures\", maxCategories=100).fit(X)\n",
    "(training_data, test_data) = X.randomSplit([0.8, 0.2])"
   ],
   "metadata": {
    "collapsed": false,
    "ExecuteTime": {
     "start_time": "2023-04-04T21:53:12.219165Z",
     "end_time": "2023-04-04T21:53:33.359299Z"
    }
   }
  },
  {
   "cell_type": "markdown",
   "source": [
    "# LogisticRegression"
   ],
   "metadata": {
    "collapsed": false
   }
  },
  {
   "cell_type": "code",
   "execution_count": 19,
   "outputs": [
    {
     "name": "stderr",
     "output_type": "stream",
     "text": [
      "                                                                                \r"
     ]
    }
   ],
   "source": [
    "lr = LogisticRegression(featuresCol=\"features\", labelCol=\"Delay\", regParam=0.3, elasticNetParam=0.8)\n",
    "pipeline = Pipeline(stages=[featureIndexer, lr])\n",
    "model = pipeline.fit(training_data)"
   ],
   "metadata": {
    "collapsed": false,
    "ExecuteTime": {
     "start_time": "2023-04-04T21:53:33.359873Z",
     "end_time": "2023-04-04T21:54:23.858170Z"
    }
   }
  },
  {
   "cell_type": "code",
   "execution_count": 20,
   "outputs": [
    {
     "name": "stderr",
     "output_type": "stream",
     "text": [
      "[Stage 238:>                                                        (0 + 1) / 1]\r"
     ]
    },
    {
     "name": "stdout",
     "output_type": "stream",
     "text": [
      "Accuracy on test data = 0.554345\n"
     ]
    },
    {
     "name": "stderr",
     "output_type": "stream",
     "text": [
      "                                                                                \r"
     ]
    }
   ],
   "source": [
    "predictions = model.transform(test_data)\n",
    "evaluator = MulticlassClassificationEvaluator(labelCol=\"Delay\", predictionCol=\"prediction\", metricName=\"accuracy\")\n",
    "accuracy = evaluator.evaluate(predictions)\n",
    "print(\"Accuracy on test data = %g\" % accuracy)"
   ],
   "metadata": {
    "collapsed": false,
    "ExecuteTime": {
     "start_time": "2023-04-04T21:54:23.863705Z",
     "end_time": "2023-04-04T21:54:47.289095Z"
    }
   }
  },
  {
   "cell_type": "markdown",
   "source": [
    "# Auto Tuning Logistic regression"
   ],
   "metadata": {
    "collapsed": false
   }
  },
  {
   "cell_type": "code",
   "execution_count": 21,
   "outputs": [
    {
     "name": "stderr",
     "output_type": "stream",
     "text": [
      "                                                                                \r"
     ]
    }
   ],
   "source": [
    "lr = LogisticRegression()\n",
    "evaluator = MulticlassClassificationEvaluator(labelCol=\"label\", predictionCol=\"prediction\", metricName=\"accuracy\")\n",
    "grid = ParamGridBuilder().addGrid(lr.regParam, np.arange(0, 1, .05)).addGrid(lr.elasticNetParam, np.arange(0, 1, 0.2)).build()\n",
    "tvs = TrainValidationSplit(estimator=lr, estimatorParamMaps=grid, evaluator=evaluator, parallelism=1, seed=42)\n",
    "tvsModel = tvs.fit(dataset=training_data.select(\"features\", fn.col(\"Delay\").alias(\"label\")))"
   ],
   "metadata": {
    "collapsed": false,
    "ExecuteTime": {
     "start_time": "2023-04-04T21:54:47.241131Z",
     "end_time": "2023-04-04T22:00:31.316164Z"
    }
   }
  },
  {
   "cell_type": "code",
   "execution_count": 22,
   "outputs": [
    {
     "name": "stderr",
     "output_type": "stream",
     "text": [
      "[Stage 978:>                                                        (0 + 1) / 1]\r"
     ]
    },
    {
     "name": "stdout",
     "output_type": "stream",
     "text": [
      "[0.6082655208868801, 0.6082655208868801, 0.6082655208868801, 0.6082655208868801, 0.6082655208868801, 0.6081879285762781, 0.6077320737514912, 0.6083334141586568, 0.6118638642910488, 0.5853369931039833, 0.6072665198878792, 0.6034160014742539, 0.5864329844912369, 0.5538927092325151, 0.5538927092325151, 0.6060832371511983, 0.5857346536958188, 0.5538927092325151, 0.5538927092325151, 0.5538927092325151, 0.6026982726011852, 0.5537278255724858, 0.5538927092325151, 0.5538927092325151, 0.5538927092325151, 0.5999049494195126, 0.5538927092325151, 0.5538927092325151, 0.5538927092325151, 0.5538927092325151, 0.5963454021706449, 0.5538927092325151, 0.5538927092325151, 0.5538927092325151, 0.5538927092325151, 0.5932805059018651, 0.5538927092325151, 0.5538927092325151, 0.5538927092325151, 0.5538927092325151, 0.5894687836435409, 0.5538927092325151, 0.5538927092325151, 0.5538927092325151, 0.5538927092325151, 0.5862971979476834, 0.5538927092325151, 0.5538927092325151, 0.5538927092325151, 0.5538927092325151, 0.5821751064469511, 0.5538927092325151, 0.5538927092325151, 0.5538927092325151, 0.5538927092325151, 0.5778008399367622, 0.5538927092325151, 0.5538927092325151, 0.5538927092325151, 0.5538927092325151, 0.5720493099133875, 0.5538927092325151, 0.5538927092325151, 0.5538927092325151, 0.5538927092325151, 0.566336576045314, 0.5538927092325151, 0.5538927092325151, 0.5538927092325151, 0.5538927092325151, 0.5619041153021735, 0.5538927092325151, 0.5538927092325151, 0.5538927092325151, 0.5538927092325151, 0.558732529606316, 0.5538927092325151, 0.5538927092325151, 0.5538927092325151, 0.5538927092325151, 0.5567539256859645, 0.5538927092325151, 0.5538927092325151, 0.5538927092325151, 0.5538927092325151, 0.5554445554445554, 0.5538927092325151, 0.5538927092325151, 0.5538927092325151, 0.5538927092325151, 0.5548238169597393, 0.5538927092325151, 0.5538927092325151, 0.5538927092325151, 0.5538927092325151, 0.5542515736690494, 0.5538927092325151, 0.5538927092325151, 0.5538927092325151, 0.5538927092325151]\n",
      "Accuracy on test data = 0.60803\n"
     ]
    },
    {
     "name": "stderr",
     "output_type": "stream",
     "text": [
      "                                                                                \r"
     ]
    }
   ],
   "source": [
    "accuracy = evaluator.evaluate(tvsModel.transform(test_data.select(\"features\", fn.col(\"Delay\").alias(\"label\"))))\n",
    "print(tvsModel.validationMetrics)\n",
    "print(\"Accuracy on test data = %g\" % accuracy)"
   ],
   "metadata": {
    "collapsed": false,
    "ExecuteTime": {
     "start_time": "2023-04-04T22:00:31.319407Z",
     "end_time": "2023-04-04T22:00:53.099376Z"
    }
   }
  },
  {
   "cell_type": "markdown",
   "source": [
    "# Decision Tree"
   ],
   "metadata": {
    "collapsed": false
   }
  },
  {
   "cell_type": "code",
   "execution_count": 23,
   "outputs": [
    {
     "name": "stderr",
     "output_type": "stream",
     "text": [
      "                                                                                \r"
     ]
    }
   ],
   "source": [
    "dt = DecisionTreeClassifier(featuresCol=\"features\", labelCol=\"Delay\", maxBins=300)\n",
    "pipeline = Pipeline(stages=[featureIndexer, dt])\n",
    "model = pipeline.fit(training_data)"
   ],
   "metadata": {
    "collapsed": false,
    "ExecuteTime": {
     "start_time": "2023-04-04T22:01:50.568675Z",
     "end_time": "2023-04-04T22:03:49.644477Z"
    }
   }
  },
  {
   "cell_type": "code",
   "execution_count": 24,
   "outputs": [
    {
     "name": "stderr",
     "output_type": "stream",
     "text": [
      "[Stage 997:>                                                        (0 + 1) / 1]\r"
     ]
    },
    {
     "name": "stdout",
     "output_type": "stream",
     "text": [
      "Accuracy = 0.635479\n"
     ]
    },
    {
     "name": "stderr",
     "output_type": "stream",
     "text": [
      "                                                                                \r"
     ]
    }
   ],
   "source": [
    "# Make predictions.\n",
    "predictions = model.transform(test_data)\n",
    "# Select (prediction, true label) and compute test error\n",
    "evaluator = MulticlassClassificationEvaluator(\n",
    "    labelCol=\"Delay\", predictionCol=\"prediction\", metricName=\"accuracy\")\n",
    "accuracy = evaluator.evaluate(predictions)\n",
    "print(\"Accuracy = %g\" % accuracy)"
   ],
   "metadata": {
    "collapsed": false,
    "ExecuteTime": {
     "start_time": "2023-04-04T22:03:49.649474Z",
     "end_time": "2023-04-04T22:04:13.115494Z"
    }
   }
  },
  {
   "cell_type": "markdown",
   "source": [
    "# Gradient-boosted tree classifier"
   ],
   "metadata": {
    "collapsed": false
   }
  },
  {
   "cell_type": "code",
   "execution_count": 25,
   "outputs": [
    {
     "name": "stderr",
     "output_type": "stream",
     "text": [
      "                                                                                \r"
     ]
    },
    {
     "name": "stdout",
     "output_type": "stream",
     "text": [
      "23/04/04 22:06:32 WARN DAGScheduler: Broadcasting large task binary with size 1004.2 KiB\n",
      "23/04/04 22:06:32 WARN DAGScheduler: Broadcasting large task binary with size 1015.8 KiB\n"
     ]
    },
    {
     "name": "stderr",
     "output_type": "stream",
     "text": [
      "                                                                                \r"
     ]
    }
   ],
   "source": [
    "gbt = GBTClassifier(labelCol=\"Delay\", featuresCol=\"indexedFeatures\", maxBins=300)\n",
    "pipeline = Pipeline(stages=[featureIndexer, gbt])\n",
    "\n",
    "model = pipeline.fit(training_data)"
   ],
   "metadata": {
    "collapsed": false,
    "ExecuteTime": {
     "start_time": "2023-04-04T22:04:13.120879Z",
     "end_time": "2023-04-04T22:06:33.140892Z"
    }
   }
  },
  {
   "cell_type": "code",
   "execution_count": 26,
   "outputs": [
    {
     "name": "stdout",
     "output_type": "stream",
     "text": [
      "23/04/04 22:06:33 WARN DAGScheduler: Broadcasting large task binary with size 1033.5 KiB\n"
     ]
    },
    {
     "name": "stderr",
     "output_type": "stream",
     "text": [
      "[Stage 1203:>                                                       (0 + 1) / 1]\r"
     ]
    },
    {
     "name": "stdout",
     "output_type": "stream",
     "text": [
      "Accuracy = 0.656937\n"
     ]
    },
    {
     "name": "stderr",
     "output_type": "stream",
     "text": [
      "                                                                                \r"
     ]
    }
   ],
   "source": [
    "# Make predictions.\n",
    "predictions = model.transform(test_data)\n",
    "\n",
    "# Select (prediction, true label) and compute test error\n",
    "evaluator = MulticlassClassificationEvaluator(\n",
    "    labelCol=\"Delay\", predictionCol=\"prediction\", metricName=\"accuracy\")\n",
    "accuracy = evaluator.evaluate(predictions)\n",
    "print(\"Accuracy = %g\" % accuracy)"
   ],
   "metadata": {
    "collapsed": false,
    "ExecuteTime": {
     "start_time": "2023-04-04T22:06:33.141189Z",
     "end_time": "2023-04-04T22:06:57.487238Z"
    }
   }
  },
  {
   "cell_type": "markdown",
   "source": [
    "# Naive Bayes"
   ],
   "metadata": {
    "collapsed": false
   }
  },
  {
   "cell_type": "code",
   "execution_count": 27,
   "outputs": [
    {
     "name": "stderr",
     "output_type": "stream",
     "text": [
      "                                                                                \r"
     ]
    }
   ],
   "source": [
    "nb = NaiveBayes(labelCol=\"Delay\" ,smoothing=1.0, modelType=\"multinomial\")\n",
    "pipeline = Pipeline(stages=[featureIndexer, nb])\n",
    "\n",
    "model = pipeline.fit(training_data)"
   ],
   "metadata": {
    "collapsed": false,
    "ExecuteTime": {
     "start_time": "2023-04-04T22:06:57.485284Z",
     "end_time": "2023-04-04T22:07:22.313644Z"
    }
   }
  },
  {
   "cell_type": "code",
   "execution_count": 28,
   "outputs": [
    {
     "name": "stderr",
     "output_type": "stream",
     "text": [
      "[Stage 1208:>                                                       (0 + 1) / 1]\r"
     ]
    },
    {
     "name": "stdout",
     "output_type": "stream",
     "text": [
      "Test set accuracy = 0.5407819263804879\n"
     ]
    },
    {
     "name": "stderr",
     "output_type": "stream",
     "text": [
      "                                                                                \r"
     ]
    }
   ],
   "source": [
    "# select example rows to display.\n",
    "predictions = model.transform(test_data)\n",
    "# compute accuracy on the test set\n",
    "evaluator = MulticlassClassificationEvaluator(labelCol=\"Delay\", predictionCol=\"prediction\",\n",
    "                                              metricName=\"accuracy\")\n",
    "accuracy = evaluator.evaluate(predictions)\n",
    "print(\"Test set accuracy = \" + str(accuracy))"
   ],
   "metadata": {
    "collapsed": false,
    "ExecuteTime": {
     "start_time": "2023-04-04T22:07:22.312563Z",
     "end_time": "2023-04-04T22:07:44.054154Z"
    }
   }
  }
 ],
 "metadata": {
  "kernelspec": {
   "display_name": "Python 3",
   "language": "python",
   "name": "python3"
  },
  "language_info": {
   "codemirror_mode": {
    "name": "ipython",
    "version": 2
   },
   "file_extension": ".py",
   "mimetype": "text/x-python",
   "name": "python",
   "nbconvert_exporter": "python",
   "pygments_lexer": "ipython2",
   "version": "2.7.6"
  }
 },
 "nbformat": 4,
 "nbformat_minor": 0
}
